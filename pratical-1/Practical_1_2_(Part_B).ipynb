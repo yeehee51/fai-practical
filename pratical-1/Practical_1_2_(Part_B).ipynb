{
  "cells": [
    {
      "cell_type": "markdown",
      "metadata": {
        "id": "wGC5qPFbH-9w"
      },
      "source": [
        "# **SECTION 1:** The Eight-Puzzle\n",
        "The __8-puzzle__ is a __sliding__ puzzle that consists of a frame of __8 square tiles in random order__ with __one tile missing__. It is a classical problem for modelling algorithms involving heuristics.\n",
        "\n",
        "__General steps:__\n",
        "*   Step 1: Get the current state.\n",
        "*   Step 2: Find the available moves and their cost.\n",
        "*   Step 3: Choose the move with the least cost and set it as the current state.\n",
        "*   Step 4: Check if it matches the goal state, if yes terminate, if no move to Step 1.\n",
        "\n",
        "\n",
        "### Please double check whether EightPuzzle.py is stored in the same directory with the current .ipynb file\n",
        "*   First we should look for an empty space `('0')` in a state. Then it should decide which moves are\n",
        "allowed and have the least cost. As a result it will move towards the goal which is the goal state.\n",
        "*   To setup the eight-puzzle, we need to formulate its’ state space.\n",
        "*   First we define a state as follows:"
      ]
    },
    {
      "cell_type": "code",
      "execution_count": 1,
      "metadata": {
        "id": "XYgS6mdLH-93"
      },
      "outputs": [],
      "source": [
        "class Puzzle:\n",
        "    def __init__(self):\n",
        "        self.StartNo\n",
        "        de=['1','2','3','5','6','8','4','0','7'] #default, h(n) = 8 - Where the puzzle starts\n",
        "        self.GoalNode=['1','2','3','4','5','6','7','8','0'] #default, h(n) = 0 - What the puzzle should look like when solved\n",
        "        self.PreviousNode=[] #to store the expanded nodes - Already visited states\n",
        "        self.Fringe=[] #to store the leaf nodes - List of possible next moves\n",
        "        self.Parent = []#to store the child-parent pairs - Keeps track of parent-child relationships (to reconstruct the solution path)\n"
      ]
    },
    {
      "cell_type": "markdown",
      "metadata": {
        "id": "pSVT1yafH-96"
      },
      "source": [
        "We would use a single dimension array to represent the states (e.g. StartNode and GoalNode)\n",
        "instead of using a two dimensional array. `'0'` indicates empty space. The StartNode represents the actual puzzle as shown below:\n",
        "\n",
        "The default StartNode = `['1','2','3','5','6','8','4','0','7']`\n",
        "\n",
        "![](http://i163.photobucket.com/albums/t281/kyin_album/p1_1.png)\n",
        "\n",
        "We can also generate the puzzle that consists of a frame of 8 square tiles in random order, by\n",
        "the shuffler function below."
      ]
    },
    {
      "cell_type": "code",
      "execution_count": 2,
      "metadata": {
        "id": "_Q99qOjzH-97"
      },
      "outputs": [],
      "source": [
        "def shuffler(self):\n",
        "    print (\"test\")\n",
        "    while True:\n",
        "        node=self.StartNode\n",
        "        subNode=[]\n",
        "        direct=random.randint(1,4) #generate a random number between 1 and 4\n",
        "        getZeroLocation=node.index('0')+1   # index of \"0\"\n",
        "        subNode.extend(node)\n",
        "        boundary=self.boundaries(getZeroLocation)\n",
        "\n",
        "        #if the empty tile is at the top 2 rows, move the tile down\n",
        "        if getZeroLocation+3<=9 and direct==1:\n",
        "            temp=subNode[node.index('0')]\n",
        "            subNode[node.index('0')]=subNode[node.index('0')+3]\n",
        "            subNode[node.index('0')+3]=temp\n",
        "            self.StartNode=subNode\n",
        "            return\n",
        "\n",
        "        #if the empty tile is at the bottom 2 rows, move the tile up\n",
        "        elif getZeroLocation-3>=1 and direct==2:\n",
        "            temp=subNode[node.index('0')]\n",
        "            subNode[node.index('0')]=subNode[node.index('0')-3]\n",
        "            subNode[node.index('0')-3]=temp\n",
        "            self.StartNode=subNode\n",
        "            return\n",
        "\n",
        "        #if the empty tile is at the last 2 columns, move the tile left\n",
        "        elif getZeroLocation-1>=boundary[0] and direct==3:\n",
        "            temp=subNode[node.index('0')]\n",
        "            subNode[node.index('0')]=subNode[node.index('0')-1]\n",
        "            subNode[node.index('0')-1]=temp\n",
        "            self.StartNode=subNode\n",
        "            return\n",
        "\n",
        "        #if the empty tile is at the first 2 columns, move the tile right\n",
        "        elif getZeroLocation+1<=boundary[1] and direct==4:\n",
        "            temp=subNode[node.index('0')]\n",
        "            subNode[node.index('0')]=subNode[node.index('0')+1]\n",
        "            subNode[node.index('0')+1]=temp\n",
        "            self.StartNode=subNode\n",
        "            return"
      ]
    },
    {
      "cell_type": "markdown",
      "metadata": {
        "id": "Jp1ZHcy1H-98"
      },
      "source": [
        "The states are generated by the successor function:"
      ]
    },
    {
      "cell_type": "code",
      "execution_count": 3,
      "metadata": {
        "id": "MutmwkhPH-98"
      },
      "outputs": [],
      "source": [
        "def successor(self,node=[]): #node is [] by default\n",
        "    subNode=[]\n",
        "    p = []\n",
        "    c = []\n",
        "\n",
        "    getZeroLocation=node.index('0') + 1 #get the location of the empty tile\n",
        "    subNode.extend(node) #to join node list to the subNode\n",
        "    boundary=self.boundaries(getZeroLocation)\n",
        "    p.extend(subNode)\n",
        "\n",
        "    self.Fringe=[] #comment this line will turns this search to best first search\n",
        "    #now generate the successor states\n",
        "    if getZeroLocation + 3 <= 9: #if the empty tile is at the top 2 rows\n",
        "        #move the empty tile DOWN\n",
        "        c = []\n",
        "        temp=subNode[node.index('0')]\n",
        "        #swap the location of 2 tiles\n",
        "        subNode[node.index('0')]=subNode[node.index('0')+3]\n",
        "        subNode[node.index('0')+3]=temp\n",
        "        c.extend(self.heuristic(subNode))\n",
        "        self.Fringe.append(c)\n",
        "        subNode=[]\n",
        "        subNode.extend(node)\n",
        "        cp = (c,p)\n",
        "        if(cp not in self.Parent):\n",
        "            self.Parent.append(cp) #store the child-parent pair to self.Parent"
      ]
    },
    {
      "cell_type": "markdown",
      "metadata": {
        "id": "UR0QylcyH-98"
      },
      "source": [
        "It is time to see how to design a heuristic function. For this practical, we would use a simple\n",
        "heuristic, i.e. counting the number of misplaced tiles."
      ]
    },
    {
      "cell_type": "code",
      "execution_count": 4,
      "metadata": {
        "id": "pCw77t-jH-99"
      },
      "outputs": [],
      "source": [
        "def heuristic(self,node):\n",
        "    misplacedTile=0\n",
        "\n",
        "    for i in range(9): #check all 9 tiles (including the ‘0’)\n",
        "        if node[i]!=self.GoalNode[i]: #compare the tile on Current and Goal Node\n",
        "            misplacedTile +=1 #if the tile is misplaced, add one; else remained\n",
        "            node.append(misplacedTile) #append the cost to the last place of node\n",
        "            return node"
      ]
    },
    {
      "cell_type": "markdown",
      "metadata": {
        "id": "RJASrNqDH-99"
      },
      "source": [
        "Now we have setup the puzzle, including getting the heuristic cost for each of its steps. Next, we\n",
        "will try two search algorithms to get the optimal solution of the puzzle, i.e. steepest ascent hill\n",
        "climbing and greedy-best first search."
      ]
    },
    {
      "cell_type": "markdown",
      "metadata": {
        "id": "AlGVj_dQH-99"
      },
      "source": [
        "# **SECTION 2:** Steepest Ascent Hill Climbing (SAHC)\n",
        "Steepest ascent hill climbing has elements of the breadth first algorithm.The algorithm of SAHC is\n",
        "shown below:\n",
        "\n",
        "### Steepest Ascent Hill Climbing algorithm"
      ]
    },
    {
      "cell_type": "code",
      "execution_count": 5,
      "metadata": {
        "id": "0NXEoci_H-9-"
      },
      "outputs": [],
      "source": [
        "def steepestAscentHillClimbing(self):\n",
        "    #make the initial state as current state\n",
        "    currentNode = self.heuristic(self.StartNode)\n",
        "    goalNode = self.heuristic(self.GoalNode) #append goal node heuristic cost\n",
        "\n",
        "    if currentNode != goalNode:\n",
        "        self.successor(currentNode)\n",
        "        level += 1\n",
        "\n",
        "    nxNode=self.SAHC(currentNode[-1]) #pass the current heuristic cost\n",
        "    while nxNode !=[] and currentNode!= goalNode and currentNode != nxNode:\n",
        "        currentNode = nxNode\n",
        "        self.successor(currentNode) # to generate next successor states\n",
        "        nxNode=self.SAHC(currentNode[-1]) #search next best node\n",
        "        level += 1\n",
        "\n",
        "\n",
        "def SAHC(self, hrCost):\n",
        "    nxNode=[] #next node\n",
        "    while True:\n",
        "        for i in self.Fringe: #for each open node in the fringe list\n",
        "            if(i[-1]<hrCost): #if the cost is better than the previous node\n",
        "                hrCost=i[-1] #update heuristic cost\n",
        "                nxNode=i #set the best node (without heuristic cost)\n",
        "\n",
        "        #if the temporary node is already in the PreviousNode list\n",
        "        if nxNode in self.PreviousNode and nxNode in self.Fringe:\n",
        "            self.Fringe.remove(nxNode) #remove the temporary node\n",
        "\n",
        "        #else if it is not in the PreviousNode list\n",
        "        elif nxNode != []:\n",
        "            self.PreviousNode.append(nxNode) #append nxNode to PreviousNode\n",
        "            return nxNode #return the next node\n",
        "        else:\n",
        "            return nxNode\n"
      ]
    },
    {
      "cell_type": "markdown",
      "metadata": {
        "id": "Bomuhq6AH-9-"
      },
      "source": [
        "Now let’s try to run the code as in the *EightPuzzle.py*. You shall run the lines as shown below:"
      ]
    },
    {
      "cell_type": "code",
      "execution_count": 6,
      "metadata": {
        "id": "DiOoZ-XfH-9-",
        "outputId": "ac1be658-a25e-4d17-b8b3-897616b17e47",
        "colab": {
          "base_uri": "https://localhost:8080/",
          "height": 349
        }
      },
      "outputs": [
        {
          "output_type": "error",
          "ename": "ModuleNotFoundError",
          "evalue": "No module named 'EightPuzzle'",
          "traceback": [
            "\u001b[0;31m---------------------------------------------------------------------------\u001b[0m",
            "\u001b[0;31mModuleNotFoundError\u001b[0m                       Traceback (most recent call last)",
            "\u001b[0;32m/tmp/ipython-input-6-2976453771.py\u001b[0m in \u001b[0;36m<cell line: 0>\u001b[0;34m()\u001b[0m\n\u001b[0;32m----> 1\u001b[0;31m \u001b[0;32mfrom\u001b[0m \u001b[0mEightPuzzle\u001b[0m \u001b[0;32mimport\u001b[0m \u001b[0mPuzzle\u001b[0m\u001b[0;34m\u001b[0m\u001b[0;34m\u001b[0m\u001b[0m\n\u001b[0m\u001b[1;32m      2\u001b[0m \u001b[0mp8\u001b[0m \u001b[0;34m=\u001b[0m \u001b[0mPuzzle\u001b[0m\u001b[0;34m(\u001b[0m\u001b[0;34m)\u001b[0m\u001b[0;34m;\u001b[0m\u001b[0;34m\u001b[0m\u001b[0;34m\u001b[0m\u001b[0m\n\u001b[1;32m      3\u001b[0m \u001b[0mp8\u001b[0m\u001b[0;34m.\u001b[0m\u001b[0msteepestAscentHillClimbing\u001b[0m\u001b[0;34m(\u001b[0m\u001b[0;34m)\u001b[0m\u001b[0;34m\u001b[0m\u001b[0;34m\u001b[0m\u001b[0m\n",
            "\u001b[0;31mModuleNotFoundError\u001b[0m: No module named 'EightPuzzle'",
            "",
            "\u001b[0;31m---------------------------------------------------------------------------\u001b[0;32m\nNOTE: If your import is failing due to a missing package, you can\nmanually install dependencies using either !pip or !apt.\n\nTo view examples of installing some common dependencies, click the\n\"Open Examples\" button below.\n\u001b[0;31m---------------------------------------------------------------------------\u001b[0m\n"
          ],
          "errorDetails": {
            "actions": [
              {
                "action": "open_url",
                "actionText": "Open Examples",
                "url": "/notebooks/snippets/importing_libraries.ipynb"
              }
            ]
          }
        }
      ],
      "source": [
        "from EightPuzzle import Puzzle\n",
        "p8 = Puzzle();\n",
        "p8.steepestAscentHillClimbing()"
      ]
    },
    {
      "cell_type": "markdown",
      "metadata": {
        "id": "8BzPcehAH-9_"
      },
      "source": [
        "Note that SAHC does not guarantee completeness as shown above. After expanded the current node\n",
        "in level 1, there is no better move in the open list, and hence no node is selected. Obviously a local\n",
        "maximum problem exists:<br>\n",
        "\n",
        "### **Question:** Which type of local maximum problem exists in the hill climbing search above?"
      ]
    },
    {
      "cell_type": "markdown",
      "metadata": {
        "id": "MEFvW3FUH-9_"
      },
      "source": [
        "# **SECTION 3:** Best First Search\n",
        "Unlike steepest-ascent hill climbing as shown above, best first search would backtrack when the\n",
        "current path does not seem promising anymore. Here is the general algorithm of a greedy-best first\n",
        "search.\n",
        "*  Step 1: Select node for expansion with minimal evaluation function `f(n)` where `f(n)` is some function that\n",
        "includes estimate heuristic h(n) of the remaining distance to goal, i.e. `f(n) = h(n)`*\n",
        "*   Step 2: Implement using priority queue, i.e. expand the best node in the open list (regardless the parent’s heuristic cost)*\n",
        "\n",
        "**Now let’s go through the code:**"
      ]
    },
    {
      "cell_type": "code",
      "execution_count": null,
      "metadata": {
        "id": "vX4wcraIH--A"
      },
      "outputs": [],
      "source": [
        "def bestFirstSolve(self):\n",
        "    currentNode = self.heuristic(self.StartNode)\n",
        "    goalNode = self.heuristic(self.GoalNode)\n",
        "    self.successor(currentNode,'bfs') # to generate next successor states\n",
        "    nxNode=self.bestFirstSearch()\n",
        "\n",
        "    while nxNode!=[] and nxNode!=goalNode and nxNode!=currentNode: #Goal test\n",
        "        currentNode = nxNode\n",
        "        self.successor(nxNode,'bfs') # to generate next successor states\n",
        "        nxNode=self.bestFirstSearch() #search next best node\n",
        "\n",
        "def bestFirstSearch(self):\n",
        "    nxNode=[] #next node\n",
        "    while True:\n",
        "        hrCost=100000 #default value of heuristic cost\n",
        "\n",
        "        for i in self.Fringe: #for each open node in the fringe list\n",
        "            if(i[-1]<hrCost): #the heuristic cost is the last member\n",
        "                hrCost=i[-1] #update heuristic cost\n",
        "                nxNode=i #set the best node to temporary node\n",
        "\n",
        "        #if the temporary node is already in the PreviousNode list\n",
        "        if nxNode in self.PreviousNode and nxNode in self.Fringe:\n",
        "            self.Fringe.remove(nxNode) #remove the node from the open list\n",
        "\n",
        "        #else if it is not in the PreviousNode list\n",
        "        else:\n",
        "            self.PreviousNode.append(nxNode) #add the node to PreviousNode list\n",
        "            return nxNode #return the next node"
      ]
    },
    {
      "cell_type": "markdown",
      "metadata": {
        "id": "oUA--WgMH--A"
      },
      "source": [
        "Now let’s try to run the code in the *EightPuzzle.py*. You shall run the lines as shown below"
      ]
    },
    {
      "cell_type": "code",
      "execution_count": null,
      "metadata": {
        "id": "P0754XY0H--A",
        "outputId": "0be86e01-c191-4323-d0d4-d5aaf0cb5f25",
        "colab": {
          "base_uri": "https://localhost:8080/"
        }
      },
      "outputs": [
        {
          "output_type": "stream",
          "name": "stdout",
          "text": [
            "GREEDY BEST FIRST SEARCH\n",
            "____________________________________________________________\n",
            "\n",
            "\n",
            "--------- \n",
            "STEP:  0 \n",
            "---------\n",
            "\tCurrent Node:  ['1', '2', '3', '5', '6', '8', '4', '0', '7', 6]\n",
            "\tOpen List:  [['1', '2', '3', '5', '0', '8', '4', '6', '7', 6], ['1', '2', '3', '5', '6', '8', '0', '4', '7', 6], ['1', '2', '3', '5', '6', '8', '4', '7', '0', 5]]\n",
            "\n",
            "--------- \n",
            "STEP:  1 \n",
            "---------\n",
            "\tCurrent Node:  ['1', '2', '3', '5', '6', '8', '4', '7', '0', 5]\n",
            "\tOpen List:  [['1', '2', '3', '5', '0', '8', '4', '6', '7', 6], ['1', '2', '3', '5', '6', '8', '0', '4', '7', 6], ['1', '2', '3', '5', '6', '8', '4', '7', '0', 5]]\n",
            "\n",
            "--------- \n",
            "STEP:  2 \n",
            "---------\n",
            "\tCurrent Node:  ['1', '2', '3', '5', '0', '8', '4', '6', '7', 6]\n",
            "\tOpen List:  [['1', '2', '3', '5', '0', '8', '4', '6', '7', 6], ['1', '2', '3', '5', '6', '8', '0', '4', '7', 6], ['1', '2', '3', '5', '6', '0', '4', '7', '8', 6], ['1', '2', '3', '5', '6', '8', '4', '0', '7', 6]]\n",
            "\n",
            "--------- \n",
            "STEP:  3 \n",
            "---------\n",
            "\tCurrent Node:  ['1', '2', '3', '0', '5', '8', '4', '6', '7', 5]\n",
            "\tOpen List:  [['1', '2', '3', '5', '0', '8', '4', '6', '7', 6], ['1', '2', '3', '5', '6', '8', '0', '4', '7', 6], ['1', '2', '3', '5', '6', '0', '4', '7', '8', 6], ['1', '2', '3', '5', '6', '8', '4', '0', '7', 6], ['1', '2', '3', '5', '6', '8', '4', '0', '7', 6], ['1', '0', '3', '5', '2', '8', '4', '6', '7', 7], ['1', '2', '3', '0', '5', '8', '4', '6', '7', 5], ['1', '2', '3', '5', '8', '0', '4', '6', '7', 6]]\n",
            "\n",
            "--------- \n",
            "STEP:  4 \n",
            "---------\n",
            "\tCurrent Node:  ['1', '2', '3', '4', '5', '8', '0', '6', '7', 4]\n",
            "\tOpen List:  [['1', '2', '3', '5', '0', '8', '4', '6', '7', 6], ['1', '2', '3', '5', '6', '8', '0', '4', '7', 6], ['1', '2', '3', '5', '6', '0', '4', '7', '8', 6], ['1', '2', '3', '5', '6', '8', '4', '0', '7', 6], ['1', '2', '3', '5', '6', '8', '4', '0', '7', 6], ['1', '0', '3', '5', '2', '8', '4', '6', '7', 7], ['1', '2', '3', '0', '5', '8', '4', '6', '7', 5], ['1', '2', '3', '5', '8', '0', '4', '6', '7', 6], ['1', '2', '3', '4', '5', '8', '0', '6', '7', 4], ['0', '2', '3', '1', '5', '8', '4', '6', '7', 6], ['1', '2', '3', '5', '0', '8', '4', '6', '7', 6]]\n",
            "\n",
            "--------- \n",
            "STEP:  5 \n",
            "---------\n",
            "\tCurrent Node:  ['1', '2', '3', '4', '5', '8', '6', '0', '7', 4]\n",
            "\tOpen List:  [['1', '2', '3', '5', '0', '8', '4', '6', '7', 6], ['1', '2', '3', '5', '6', '8', '0', '4', '7', 6], ['1', '2', '3', '5', '6', '0', '4', '7', '8', 6], ['1', '2', '3', '5', '6', '8', '4', '0', '7', 6], ['1', '2', '3', '5', '6', '8', '4', '0', '7', 6], ['1', '0', '3', '5', '2', '8', '4', '6', '7', 7], ['1', '2', '3', '0', '5', '8', '4', '6', '7', 5], ['1', '2', '3', '5', '8', '0', '4', '6', '7', 6], ['0', '2', '3', '1', '5', '8', '4', '6', '7', 6], ['1', '2', '3', '5', '0', '8', '4', '6', '7', 6], ['1', '2', '3', '0', '5', '8', '4', '6', '7', 5], ['1', '2', '3', '4', '5', '8', '6', '0', '7', 4]]\n",
            "\n",
            "--------- \n",
            "STEP:  6 \n",
            "---------\n",
            "\tCurrent Node:  ['1', '2', '3', '4', '5', '8', '6', '7', '0', 3]\n",
            "\tOpen List:  [['1', '2', '3', '5', '0', '8', '4', '6', '7', 6], ['1', '2', '3', '5', '6', '8', '0', '4', '7', 6], ['1', '2', '3', '5', '6', '0', '4', '7', '8', 6], ['1', '2', '3', '5', '6', '8', '4', '0', '7', 6], ['1', '2', '3', '5', '6', '8', '4', '0', '7', 6], ['1', '0', '3', '5', '2', '8', '4', '6', '7', 7], ['1', '2', '3', '0', '5', '8', '4', '6', '7', 5], ['1', '2', '3', '5', '8', '0', '4', '6', '7', 6], ['0', '2', '3', '1', '5', '8', '4', '6', '7', 6], ['1', '2', '3', '5', '0', '8', '4', '6', '7', 6], ['1', '2', '3', '0', '5', '8', '4', '6', '7', 5], ['1', '2', '3', '4', '5', '8', '6', '0', '7', 4], ['1', '2', '3', '4', '0', '8', '6', '5', '7', 5], ['1', '2', '3', '4', '5', '8', '0', '6', '7', 4], ['1', '2', '3', '4', '5', '8', '6', '7', '0', 3]]\n",
            "\n",
            "--------- \n",
            "STEP:  7 \n",
            "---------\n",
            "\tCurrent Node:  ['1', '2', '3', '4', '5', '0', '6', '7', '8', 4]\n",
            "\tOpen List:  [['1', '2', '3', '5', '0', '8', '4', '6', '7', 6], ['1', '2', '3', '5', '6', '8', '0', '4', '7', 6], ['1', '2', '3', '5', '6', '0', '4', '7', '8', 6], ['1', '2', '3', '5', '6', '8', '4', '0', '7', 6], ['1', '2', '3', '5', '6', '8', '4', '0', '7', 6], ['1', '0', '3', '5', '2', '8', '4', '6', '7', 7], ['1', '2', '3', '0', '5', '8', '4', '6', '7', 5], ['1', '2', '3', '5', '8', '0', '4', '6', '7', 6], ['0', '2', '3', '1', '5', '8', '4', '6', '7', 6], ['1', '2', '3', '5', '0', '8', '4', '6', '7', 6], ['1', '2', '3', '0', '5', '8', '4', '6', '7', 5], ['1', '2', '3', '4', '0', '8', '6', '5', '7', 5], ['1', '2', '3', '4', '5', '0', '6', '7', '8', 4], ['1', '2', '3', '4', '5', '8', '6', '0', '7', 4]]\n",
            "\n",
            "--------- \n",
            "STEP:  8 \n",
            "---------\n",
            "\tCurrent Node:  ['1', '2', '3', '4', '0', '8', '6', '5', '7', 5]\n",
            "\tOpen List:  [['1', '2', '3', '5', '0', '8', '4', '6', '7', 6], ['1', '2', '3', '5', '6', '8', '0', '4', '7', 6], ['1', '2', '3', '5', '6', '0', '4', '7', '8', 6], ['1', '2', '3', '5', '6', '8', '4', '0', '7', 6], ['1', '2', '3', '5', '6', '8', '4', '0', '7', 6], ['1', '0', '3', '5', '2', '8', '4', '6', '7', 7], ['1', '2', '3', '5', '8', '0', '4', '6', '7', 6], ['0', '2', '3', '1', '5', '8', '4', '6', '7', 6], ['1', '2', '3', '5', '0', '8', '4', '6', '7', 6], ['1', '2', '3', '4', '0', '8', '6', '5', '7', 5], ['1', '2', '0', '4', '5', '3', '6', '7', '8', 5], ['1', '2', '3', '4', '0', '5', '6', '7', '8', 5]]\n",
            "\n",
            "--------- \n",
            "STEP:  9 \n",
            "---------\n",
            "\tCurrent Node:  ['1', '2', '0', '4', '5', '3', '6', '7', '8', 5]\n",
            "\tOpen List:  [['1', '2', '3', '5', '0', '8', '4', '6', '7', 6], ['1', '2', '3', '5', '6', '8', '0', '4', '7', 6], ['1', '2', '3', '5', '6', '0', '4', '7', '8', 6], ['1', '2', '3', '5', '6', '8', '4', '0', '7', 6], ['1', '2', '3', '5', '6', '8', '4', '0', '7', 6], ['1', '0', '3', '5', '2', '8', '4', '6', '7', 7], ['1', '2', '3', '5', '8', '0', '4', '6', '7', 6], ['0', '2', '3', '1', '5', '8', '4', '6', '7', 6], ['1', '2', '3', '5', '0', '8', '4', '6', '7', 6], ['1', '2', '0', '4', '5', '3', '6', '7', '8', 5], ['1', '2', '3', '4', '0', '5', '6', '7', '8', 5], ['1', '0', '3', '4', '2', '8', '6', '5', '7', 6], ['1', '2', '3', '0', '4', '8', '6', '5', '7', 6], ['1', '2', '3', '4', '8', '0', '6', '5', '7', 5]]\n",
            "\n",
            "--------- \n",
            "STEP:  10 \n",
            "---------\n",
            "\tCurrent Node:  ['1', '2', '3', '4', '0', '5', '6', '7', '8', 5]\n",
            "\tOpen List:  [['1', '2', '3', '5', '0', '8', '4', '6', '7', 6], ['1', '2', '3', '5', '6', '8', '0', '4', '7', 6], ['1', '2', '3', '5', '6', '0', '4', '7', '8', 6], ['1', '2', '3', '5', '6', '8', '4', '0', '7', 6], ['1', '2', '3', '5', '6', '8', '4', '0', '7', 6], ['1', '0', '3', '5', '2', '8', '4', '6', '7', 7], ['1', '2', '3', '5', '8', '0', '4', '6', '7', 6], ['0', '2', '3', '1', '5', '8', '4', '6', '7', 6], ['1', '2', '3', '5', '0', '8', '4', '6', '7', 6], ['1', '2', '3', '4', '0', '5', '6', '7', '8', 5], ['1', '0', '3', '4', '2', '8', '6', '5', '7', 6], ['1', '2', '3', '0', '4', '8', '6', '5', '7', 6], ['1', '2', '3', '4', '8', '0', '6', '5', '7', 5], ['1', '0', '2', '4', '5', '3', '6', '7', '8', 6]]\n",
            "\n",
            "--------- \n",
            "STEP:  11 \n",
            "---------\n",
            "\tCurrent Node:  ['1', '2', '3', '4', '8', '0', '6', '5', '7', 5]\n",
            "\tOpen List:  [['1', '2', '3', '5', '0', '8', '4', '6', '7', 6], ['1', '2', '3', '5', '6', '8', '0', '4', '7', 6], ['1', '2', '3', '5', '6', '0', '4', '7', '8', 6], ['1', '2', '3', '5', '6', '8', '4', '0', '7', 6], ['1', '2', '3', '5', '6', '8', '4', '0', '7', 6], ['1', '0', '3', '5', '2', '8', '4', '6', '7', 7], ['1', '2', '3', '5', '8', '0', '4', '6', '7', 6], ['0', '2', '3', '1', '5', '8', '4', '6', '7', 6], ['1', '2', '3', '5', '0', '8', '4', '6', '7', 6], ['1', '0', '3', '4', '2', '8', '6', '5', '7', 6], ['1', '2', '3', '0', '4', '8', '6', '5', '7', 6], ['1', '2', '3', '4', '8', '0', '6', '5', '7', 5], ['1', '0', '2', '4', '5', '3', '6', '7', '8', 6], ['1', '2', '3', '4', '7', '5', '6', '0', '8', 5], ['1', '0', '3', '4', '2', '5', '6', '7', '8', 6], ['1', '2', '3', '0', '4', '5', '6', '7', '8', 6]]\n",
            "\n",
            "--------- \n",
            "STEP:  12 \n",
            "---------\n",
            "\tCurrent Node:  ['1', '2', '3', '4', '8', '7', '6', '5', '0', 4]\n",
            "\tOpen List:  [['1', '2', '3', '5', '0', '8', '4', '6', '7', 6], ['1', '2', '3', '5', '6', '8', '0', '4', '7', 6], ['1', '2', '3', '5', '6', '0', '4', '7', '8', 6], ['1', '2', '3', '5', '6', '8', '4', '0', '7', 6], ['1', '2', '3', '5', '6', '8', '4', '0', '7', 6], ['1', '0', '3', '5', '2', '8', '4', '6', '7', 7], ['1', '2', '3', '5', '8', '0', '4', '6', '7', 6], ['0', '2', '3', '1', '5', '8', '4', '6', '7', 6], ['1', '2', '3', '5', '0', '8', '4', '6', '7', 6], ['1', '0', '3', '4', '2', '8', '6', '5', '7', 6], ['1', '2', '3', '0', '4', '8', '6', '5', '7', 6], ['1', '2', '3', '4', '8', '0', '6', '5', '7', 5], ['1', '0', '2', '4', '5', '3', '6', '7', '8', 6], ['1', '2', '3', '4', '7', '5', '6', '0', '8', 5], ['1', '0', '3', '4', '2', '5', '6', '7', '8', 6], ['1', '2', '3', '0', '4', '5', '6', '7', '8', 6], ['1', '2', '3', '4', '8', '7', '6', '5', '0', 4], ['1', '2', '0', '4', '8', '3', '6', '5', '7', 6], ['1', '2', '3', '4', '0', '8', '6', '5', '7', 5]]\n",
            "\n",
            "--------- \n",
            "STEP:  13 \n",
            "---------\n",
            "\tCurrent Node:  ['1', '2', '3', '4', '7', '5', '6', '0', '8', 5]\n",
            "\tOpen List:  [['1', '2', '3', '5', '0', '8', '4', '6', '7', 6], ['1', '2', '3', '5', '6', '8', '0', '4', '7', 6], ['1', '2', '3', '5', '6', '0', '4', '7', '8', 6], ['1', '2', '3', '5', '6', '8', '4', '0', '7', 6], ['1', '2', '3', '5', '6', '8', '4', '0', '7', 6], ['1', '0', '3', '5', '2', '8', '4', '6', '7', 7], ['1', '2', '3', '5', '8', '0', '4', '6', '7', 6], ['0', '2', '3', '1', '5', '8', '4', '6', '7', 6], ['1', '2', '3', '5', '0', '8', '4', '6', '7', 6], ['1', '0', '3', '4', '2', '8', '6', '5', '7', 6], ['1', '2', '3', '0', '4', '8', '6', '5', '7', 6], ['1', '0', '2', '4', '5', '3', '6', '7', '8', 6], ['1', '2', '3', '4', '7', '5', '6', '0', '8', 5], ['1', '0', '3', '4', '2', '5', '6', '7', '8', 6], ['1', '2', '3', '0', '4', '5', '6', '7', '8', 6], ['1', '2', '0', '4', '8', '3', '6', '5', '7', 6], ['1', '2', '3', '4', '0', '8', '6', '5', '7', 5], ['1', '2', '3', '4', '8', '0', '6', '5', '7', 5], ['1', '2', '3', '4', '8', '7', '6', '0', '5', 5]]\n",
            "\n",
            "--------- \n",
            "STEP:  14 \n",
            "---------\n",
            "\tCurrent Node:  ['1', '2', '3', '4', '7', '5', '6', '8', '0', 3]\n",
            "\tOpen List:  [['1', '2', '3', '5', '0', '8', '4', '6', '7', 6], ['1', '2', '3', '5', '6', '8', '0', '4', '7', 6], ['1', '2', '3', '5', '6', '0', '4', '7', '8', 6], ['1', '2', '3', '5', '6', '8', '4', '0', '7', 6], ['1', '2', '3', '5', '6', '8', '4', '0', '7', 6], ['1', '0', '3', '5', '2', '8', '4', '6', '7', 7], ['1', '2', '3', '5', '8', '0', '4', '6', '7', 6], ['0', '2', '3', '1', '5', '8', '4', '6', '7', 6], ['1', '2', '3', '5', '0', '8', '4', '6', '7', 6], ['1', '0', '3', '4', '2', '8', '6', '5', '7', 6], ['1', '2', '3', '0', '4', '8', '6', '5', '7', 6], ['1', '0', '2', '4', '5', '3', '6', '7', '8', 6], ['1', '2', '3', '4', '7', '5', '6', '0', '8', 5], ['1', '0', '3', '4', '2', '5', '6', '7', '8', 6], ['1', '2', '3', '0', '4', '5', '6', '7', '8', 6], ['1', '2', '0', '4', '8', '3', '6', '5', '7', 6], ['1', '2', '3', '4', '0', '8', '6', '5', '7', 5], ['1', '2', '3', '4', '8', '0', '6', '5', '7', 5], ['1', '2', '3', '4', '8', '7', '6', '0', '5', 5], ['1', '2', '3', '4', '0', '5', '6', '7', '8', 5], ['1', '2', '3', '4', '7', '5', '0', '6', '8', 5], ['1', '2', '3', '4', '7', '5', '6', '8', '0', 3]]\n",
            "\n",
            "--------- \n",
            "STEP:  15 \n",
            "---------\n",
            "\tCurrent Node:  ['1', '2', '3', '4', '7', '0', '6', '8', '5', 4]\n",
            "\tOpen List:  [['1', '2', '3', '5', '0', '8', '4', '6', '7', 6], ['1', '2', '3', '5', '6', '8', '0', '4', '7', 6], ['1', '2', '3', '5', '6', '0', '4', '7', '8', 6], ['1', '2', '3', '5', '6', '8', '4', '0', '7', 6], ['1', '2', '3', '5', '6', '8', '4', '0', '7', 6], ['1', '0', '3', '5', '2', '8', '4', '6', '7', 7], ['1', '2', '3', '5', '8', '0', '4', '6', '7', 6], ['0', '2', '3', '1', '5', '8', '4', '6', '7', 6], ['1', '2', '3', '5', '0', '8', '4', '6', '7', 6], ['1', '0', '3', '4', '2', '8', '6', '5', '7', 6], ['1', '2', '3', '0', '4', '8', '6', '5', '7', 6], ['1', '0', '2', '4', '5', '3', '6', '7', '8', 6], ['1', '2', '3', '4', '7', '5', '6', '0', '8', 5], ['1', '0', '3', '4', '2', '5', '6', '7', '8', 6], ['1', '2', '3', '0', '4', '5', '6', '7', '8', 6], ['1', '2', '0', '4', '8', '3', '6', '5', '7', 6], ['1', '2', '3', '4', '0', '8', '6', '5', '7', 5], ['1', '2', '3', '4', '8', '0', '6', '5', '7', 5], ['1', '2', '3', '4', '8', '7', '6', '0', '5', 5], ['1', '2', '3', '4', '0', '5', '6', '7', '8', 5], ['1', '2', '3', '4', '7', '5', '0', '6', '8', 5], ['1', '2', '3', '4', '7', '0', '6', '8', '5', 4], ['1', '2', '3', '4', '7', '5', '6', '0', '8', 5]]\n",
            "\n",
            "--------- \n",
            "STEP:  16 \n",
            "---------\n",
            "\tCurrent Node:  ['1', '2', '3', '4', '0', '7', '6', '8', '5', 4]\n",
            "\tOpen List:  [['1', '2', '3', '5', '0', '8', '4', '6', '7', 6], ['1', '2', '3', '5', '6', '8', '0', '4', '7', 6], ['1', '2', '3', '5', '6', '0', '4', '7', '8', 6], ['1', '2', '3', '5', '6', '8', '4', '0', '7', 6], ['1', '2', '3', '5', '6', '8', '4', '0', '7', 6], ['1', '0', '3', '5', '2', '8', '4', '6', '7', 7], ['1', '2', '3', '5', '8', '0', '4', '6', '7', 6], ['0', '2', '3', '1', '5', '8', '4', '6', '7', 6], ['1', '2', '3', '5', '0', '8', '4', '6', '7', 6], ['1', '0', '3', '4', '2', '8', '6', '5', '7', 6], ['1', '2', '3', '0', '4', '8', '6', '5', '7', 6], ['1', '0', '2', '4', '5', '3', '6', '7', '8', 6], ['1', '2', '3', '4', '7', '5', '6', '0', '8', 5], ['1', '0', '3', '4', '2', '5', '6', '7', '8', 6], ['1', '2', '3', '0', '4', '5', '6', '7', '8', 6], ['1', '2', '0', '4', '8', '3', '6', '5', '7', 6], ['1', '2', '3', '4', '0', '8', '6', '5', '7', 5], ['1', '2', '3', '4', '8', '0', '6', '5', '7', 5], ['1', '2', '3', '4', '8', '7', '6', '0', '5', 5], ['1', '2', '3', '4', '0', '5', '6', '7', '8', 5], ['1', '2', '3', '4', '7', '5', '0', '6', '8', 5], ['1', '2', '3', '4', '7', '5', '6', '0', '8', 5], ['1', '2', '0', '4', '7', '3', '6', '8', '5', 5], ['1', '2', '3', '4', '0', '7', '6', '8', '5', 4]]\n",
            "\n",
            "--------- \n",
            "STEP:  17 \n",
            "---------\n",
            "\tCurrent Node:  ['1', '2', '3', '4', '8', '7', '6', '0', '5', 5]\n",
            "\tOpen List:  [['1', '2', '3', '5', '0', '8', '4', '6', '7', 6], ['1', '2', '3', '5', '6', '8', '0', '4', '7', 6], ['1', '2', '3', '5', '6', '0', '4', '7', '8', 6], ['1', '2', '3', '5', '6', '8', '4', '0', '7', 6], ['1', '2', '3', '5', '6', '8', '4', '0', '7', 6], ['1', '0', '3', '5', '2', '8', '4', '6', '7', 7], ['1', '2', '3', '5', '8', '0', '4', '6', '7', 6], ['0', '2', '3', '1', '5', '8', '4', '6', '7', 6], ['1', '2', '3', '5', '0', '8', '4', '6', '7', 6], ['1', '0', '3', '4', '2', '8', '6', '5', '7', 6], ['1', '2', '3', '0', '4', '8', '6', '5', '7', 6], ['1', '0', '2', '4', '5', '3', '6', '7', '8', 6], ['1', '0', '3', '4', '2', '5', '6', '7', '8', 6], ['1', '2', '3', '0', '4', '5', '6', '7', '8', 6], ['1', '2', '0', '4', '8', '3', '6', '5', '7', 6], ['1', '2', '3', '4', '8', '7', '6', '0', '5', 5], ['1', '2', '3', '4', '0', '5', '6', '7', '8', 5], ['1', '2', '3', '4', '7', '5', '0', '6', '8', 5], ['1', '2', '3', '4', '7', '5', '6', '0', '8', 5], ['1', '2', '0', '4', '7', '3', '6', '8', '5', 5], ['1', '2', '3', '4', '8', '7', '6', '0', '5', 5], ['1', '0', '3', '4', '2', '7', '6', '8', '5', 5], ['1', '2', '3', '0', '4', '7', '6', '8', '5', 5]]\n",
            "\n",
            "--------- \n",
            "STEP:  18 \n",
            "---------\n",
            "\tCurrent Node:  ['1', '2', '3', '4', '7', '5', '0', '6', '8', 5]\n",
            "\tOpen List:  [['1', '2', '3', '5', '0', '8', '4', '6', '7', 6], ['1', '2', '3', '5', '6', '8', '0', '4', '7', 6], ['1', '2', '3', '5', '6', '0', '4', '7', '8', 6], ['1', '2', '3', '5', '6', '8', '4', '0', '7', 6], ['1', '2', '3', '5', '6', '8', '4', '0', '7', 6], ['1', '0', '3', '5', '2', '8', '4', '6', '7', 7], ['1', '2', '3', '5', '8', '0', '4', '6', '7', 6], ['0', '2', '3', '1', '5', '8', '4', '6', '7', 6], ['1', '2', '3', '5', '0', '8', '4', '6', '7', 6], ['1', '0', '3', '4', '2', '8', '6', '5', '7', 6], ['1', '2', '3', '0', '4', '8', '6', '5', '7', 6], ['1', '0', '2', '4', '5', '3', '6', '7', '8', 6], ['1', '0', '3', '4', '2', '5', '6', '7', '8', 6], ['1', '2', '3', '0', '4', '5', '6', '7', '8', 6], ['1', '2', '0', '4', '8', '3', '6', '5', '7', 6], ['1', '2', '3', '4', '7', '5', '0', '6', '8', 5], ['1', '2', '3', '4', '7', '5', '6', '0', '8', 5], ['1', '2', '0', '4', '7', '3', '6', '8', '5', 5], ['1', '2', '3', '4', '8', '7', '6', '0', '5', 5], ['1', '0', '3', '4', '2', '7', '6', '8', '5', 5], ['1', '2', '3', '0', '4', '7', '6', '8', '5', 5], ['1', '2', '3', '4', '8', '7', '0', '6', '5', 5]]\n",
            "\n",
            "--------- \n",
            "STEP:  19 \n",
            "---------\n",
            "\tCurrent Node:  ['1', '2', '0', '4', '7', '3', '6', '8', '5', 5]\n",
            "\tOpen List:  [['1', '2', '3', '5', '0', '8', '4', '6', '7', 6], ['1', '2', '3', '5', '6', '8', '0', '4', '7', 6], ['1', '2', '3', '5', '6', '0', '4', '7', '8', 6], ['1', '2', '3', '5', '6', '8', '4', '0', '7', 6], ['1', '2', '3', '5', '6', '8', '4', '0', '7', 6], ['1', '0', '3', '5', '2', '8', '4', '6', '7', 7], ['1', '2', '3', '5', '8', '0', '4', '6', '7', 6], ['0', '2', '3', '1', '5', '8', '4', '6', '7', 6], ['1', '2', '3', '5', '0', '8', '4', '6', '7', 6], ['1', '0', '3', '4', '2', '8', '6', '5', '7', 6], ['1', '2', '3', '0', '4', '8', '6', '5', '7', 6], ['1', '0', '2', '4', '5', '3', '6', '7', '8', 6], ['1', '0', '3', '4', '2', '5', '6', '7', '8', 6], ['1', '2', '3', '0', '4', '5', '6', '7', '8', 6], ['1', '2', '0', '4', '8', '3', '6', '5', '7', 6], ['1', '2', '0', '4', '7', '3', '6', '8', '5', 5], ['1', '2', '3', '4', '8', '7', '6', '0', '5', 5], ['1', '0', '3', '4', '2', '7', '6', '8', '5', 5], ['1', '2', '3', '0', '4', '7', '6', '8', '5', 5], ['1', '2', '3', '4', '8', '7', '0', '6', '5', 5], ['1', '2', '3', '0', '7', '5', '4', '6', '8', 6], ['1', '2', '3', '4', '7', '5', '6', '0', '8', 5]]\n",
            "\n",
            "--------- \n",
            "STEP:  20 \n",
            "---------\n",
            "\tCurrent Node:  ['1', '0', '3', '4', '2', '7', '6', '8', '5', 5]\n",
            "\tOpen List:  [['1', '2', '3', '5', '0', '8', '4', '6', '7', 6], ['1', '2', '3', '5', '6', '8', '0', '4', '7', 6], ['1', '2', '3', '5', '6', '0', '4', '7', '8', 6], ['1', '2', '3', '5', '6', '8', '4', '0', '7', 6], ['1', '2', '3', '5', '6', '8', '4', '0', '7', 6], ['1', '0', '3', '5', '2', '8', '4', '6', '7', 7], ['1', '2', '3', '5', '8', '0', '4', '6', '7', 6], ['0', '2', '3', '1', '5', '8', '4', '6', '7', 6], ['1', '2', '3', '5', '0', '8', '4', '6', '7', 6], ['1', '0', '3', '4', '2', '8', '6', '5', '7', 6], ['1', '2', '3', '0', '4', '8', '6', '5', '7', 6], ['1', '0', '2', '4', '5', '3', '6', '7', '8', 6], ['1', '0', '3', '4', '2', '5', '6', '7', '8', 6], ['1', '2', '3', '0', '4', '5', '6', '7', '8', 6], ['1', '2', '0', '4', '8', '3', '6', '5', '7', 6], ['1', '0', '3', '4', '2', '7', '6', '8', '5', 5], ['1', '2', '3', '0', '4', '7', '6', '8', '5', 5], ['1', '2', '3', '4', '8', '7', '0', '6', '5', 5], ['1', '2', '3', '0', '7', '5', '4', '6', '8', 6], ['1', '2', '3', '4', '7', '5', '6', '0', '8', 5], ['1', '0', '2', '4', '7', '3', '6', '8', '5', 6]]\n",
            "\n",
            "--------- \n",
            "STEP:  21 \n",
            "---------\n",
            "\tCurrent Node:  ['1', '2', '3', '0', '4', '7', '6', '8', '5', 5]\n",
            "\tOpen List:  [['1', '2', '3', '5', '0', '8', '4', '6', '7', 6], ['1', '2', '3', '5', '6', '8', '0', '4', '7', 6], ['1', '2', '3', '5', '6', '0', '4', '7', '8', 6], ['1', '2', '3', '5', '6', '8', '4', '0', '7', 6], ['1', '2', '3', '5', '6', '8', '4', '0', '7', 6], ['1', '0', '3', '5', '2', '8', '4', '6', '7', 7], ['1', '2', '3', '5', '8', '0', '4', '6', '7', 6], ['0', '2', '3', '1', '5', '8', '4', '6', '7', 6], ['1', '2', '3', '5', '0', '8', '4', '6', '7', 6], ['1', '0', '3', '4', '2', '8', '6', '5', '7', 6], ['1', '2', '3', '0', '4', '8', '6', '5', '7', 6], ['1', '0', '2', '4', '5', '3', '6', '7', '8', 6], ['1', '0', '3', '4', '2', '5', '6', '7', '8', 6], ['1', '2', '3', '0', '4', '5', '6', '7', '8', 6], ['1', '2', '0', '4', '8', '3', '6', '5', '7', 6], ['1', '2', '3', '0', '4', '7', '6', '8', '5', 5], ['1', '2', '3', '4', '8', '7', '0', '6', '5', 5], ['1', '2', '3', '0', '7', '5', '4', '6', '8', 6], ['1', '2', '3', '4', '7', '5', '6', '0', '8', 5], ['1', '0', '2', '4', '7', '3', '6', '8', '5', 6], ['0', '1', '3', '4', '2', '7', '6', '8', '5', 6], ['1', '3', '0', '4', '2', '7', '6', '8', '5', 6]]\n",
            "\n",
            "--------- \n",
            "STEP:  22 \n",
            "---------\n",
            "\tCurrent Node:  ['1', '2', '3', '4', '8', '7', '0', '6', '5', 5]\n",
            "\tOpen List:  [['1', '2', '3', '5', '0', '8', '4', '6', '7', 6], ['1', '2', '3', '5', '6', '8', '0', '4', '7', 6], ['1', '2', '3', '5', '6', '0', '4', '7', '8', 6], ['1', '2', '3', '5', '6', '8', '4', '0', '7', 6], ['1', '2', '3', '5', '6', '8', '4', '0', '7', 6], ['1', '0', '3', '5', '2', '8', '4', '6', '7', 7], ['1', '2', '3', '5', '8', '0', '4', '6', '7', 6], ['0', '2', '3', '1', '5', '8', '4', '6', '7', 6], ['1', '2', '3', '5', '0', '8', '4', '6', '7', 6], ['1', '0', '3', '4', '2', '8', '6', '5', '7', 6], ['1', '2', '3', '0', '4', '8', '6', '5', '7', 6], ['1', '0', '2', '4', '5', '3', '6', '7', '8', 6], ['1', '0', '3', '4', '2', '5', '6', '7', '8', 6], ['1', '2', '3', '0', '4', '5', '6', '7', '8', 6], ['1', '2', '0', '4', '8', '3', '6', '5', '7', 6], ['1', '2', '3', '4', '8', '7', '0', '6', '5', 5], ['1', '2', '3', '0', '7', '5', '4', '6', '8', 6], ['1', '2', '3', '4', '7', '5', '6', '0', '8', 5], ['1', '0', '2', '4', '7', '3', '6', '8', '5', 6], ['0', '1', '3', '4', '2', '7', '6', '8', '5', 6], ['1', '3', '0', '4', '2', '7', '6', '8', '5', 6], ['1', '2', '3', '6', '4', '7', '0', '8', '5', 5], ['0', '2', '3', '1', '4', '7', '6', '8', '5', 6]]\n",
            "\n",
            "--------- \n",
            "STEP:  23 \n",
            "---------\n",
            "\tCurrent Node:  ['1', '2', '3', '6', '4', '7', '0', '8', '5', 5]\n",
            "\tOpen List:  [['1', '2', '3', '5', '0', '8', '4', '6', '7', 6], ['1', '2', '3', '5', '6', '8', '0', '4', '7', 6], ['1', '2', '3', '5', '6', '0', '4', '7', '8', 6], ['1', '2', '3', '5', '6', '8', '4', '0', '7', 6], ['1', '2', '3', '5', '6', '8', '4', '0', '7', 6], ['1', '0', '3', '5', '2', '8', '4', '6', '7', 7], ['1', '2', '3', '5', '8', '0', '4', '6', '7', 6], ['0', '2', '3', '1', '5', '8', '4', '6', '7', 6], ['1', '2', '3', '5', '0', '8', '4', '6', '7', 6], ['1', '0', '3', '4', '2', '8', '6', '5', '7', 6], ['1', '2', '3', '0', '4', '8', '6', '5', '7', 6], ['1', '0', '2', '4', '5', '3', '6', '7', '8', 6], ['1', '0', '3', '4', '2', '5', '6', '7', '8', 6], ['1', '2', '3', '0', '4', '5', '6', '7', '8', 6], ['1', '2', '0', '4', '8', '3', '6', '5', '7', 6], ['1', '2', '3', '0', '7', '5', '4', '6', '8', 6], ['1', '0', '2', '4', '7', '3', '6', '8', '5', 6], ['0', '1', '3', '4', '2', '7', '6', '8', '5', 6], ['1', '3', '0', '4', '2', '7', '6', '8', '5', 6], ['1', '2', '3', '6', '4', '7', '0', '8', '5', 5], ['0', '2', '3', '1', '4', '7', '6', '8', '5', 6], ['1', '2', '3', '0', '8', '7', '4', '6', '5', 6], ['1', '2', '3', '4', '8', '7', '6', '0', '5', 5]]\n",
            "\n",
            "--------- \n",
            "STEP:  24 \n",
            "---------\n",
            "\tCurrent Node:  ['1', '2', '3', '5', '6', '8', '0', '4', '7', 6]\n",
            "\tOpen List:  [['1', '2', '3', '5', '6', '8', '0', '4', '7', 6], ['1', '2', '3', '5', '6', '0', '4', '7', '8', 6], ['1', '2', '3', '5', '6', '8', '4', '0', '7', 6], ['1', '2', '3', '5', '6', '8', '4', '0', '7', 6], ['1', '0', '3', '5', '2', '8', '4', '6', '7', 7], ['1', '2', '3', '5', '8', '0', '4', '6', '7', 6], ['0', '2', '3', '1', '5', '8', '4', '6', '7', 6], ['1', '2', '3', '5', '0', '8', '4', '6', '7', 6], ['1', '0', '3', '4', '2', '8', '6', '5', '7', 6], ['1', '2', '3', '0', '4', '8', '6', '5', '7', 6], ['1', '0', '2', '4', '5', '3', '6', '7', '8', 6], ['1', '0', '3', '4', '2', '5', '6', '7', '8', 6], ['1', '2', '3', '0', '4', '5', '6', '7', '8', 6], ['1', '2', '0', '4', '8', '3', '6', '5', '7', 6], ['1', '2', '3', '0', '7', '5', '4', '6', '8', 6], ['1', '0', '2', '4', '7', '3', '6', '8', '5', 6], ['0', '1', '3', '4', '2', '7', '6', '8', '5', 6], ['1', '3', '0', '4', '2', '7', '6', '8', '5', 6], ['0', '2', '3', '1', '4', '7', '6', '8', '5', 6], ['1', '2', '3', '0', '8', '7', '4', '6', '5', 6], ['1', '2', '3', '6', '4', '7', '8', '0', '5', 6]]\n",
            "\n",
            "--------- \n",
            "STEP:  25 \n",
            "---------\n",
            "\tCurrent Node:  ['1', '2', '3', '5', '6', '0', '4', '7', '8', 6]\n",
            "\tOpen List:  [['1', '2', '3', '5', '6', '0', '4', '7', '8', 6], ['1', '2', '3', '5', '6', '8', '4', '0', '7', 6], ['1', '2', '3', '5', '6', '8', '4', '0', '7', 6], ['1', '0', '3', '5', '2', '8', '4', '6', '7', 7], ['1', '2', '3', '5', '8', '0', '4', '6', '7', 6], ['0', '2', '3', '1', '5', '8', '4', '6', '7', 6], ['1', '2', '3', '5', '0', '8', '4', '6', '7', 6], ['1', '0', '3', '4', '2', '8', '6', '5', '7', 6], ['1', '2', '3', '0', '4', '8', '6', '5', '7', 6], ['1', '0', '2', '4', '5', '3', '6', '7', '8', 6], ['1', '0', '3', '4', '2', '5', '6', '7', '8', 6], ['1', '2', '3', '0', '4', '5', '6', '7', '8', 6], ['1', '2', '0', '4', '8', '3', '6', '5', '7', 6], ['1', '2', '3', '0', '7', '5', '4', '6', '8', 6], ['1', '0', '2', '4', '7', '3', '6', '8', '5', 6], ['0', '1', '3', '4', '2', '7', '6', '8', '5', 6], ['1', '3', '0', '4', '2', '7', '6', '8', '5', 6], ['0', '2', '3', '1', '4', '7', '6', '8', '5', 6], ['1', '2', '3', '0', '8', '7', '4', '6', '5', 6], ['1', '2', '3', '6', '4', '7', '8', '0', '5', 6], ['1', '2', '3', '0', '6', '8', '5', '4', '7', 6], ['1', '2', '3', '5', '6', '8', '4', '0', '7', 6]]\n",
            "\n",
            "--------- \n",
            "STEP:  26 \n",
            "---------\n",
            "\tCurrent Node:  ['1', '2', '3', '5', '0', '6', '4', '7', '8', 5]\n",
            "\tOpen List:  [['1', '2', '3', '5', '6', '0', '4', '7', '8', 6], ['1', '2', '3', '5', '6', '8', '4', '0', '7', 6], ['1', '2', '3', '5', '6', '8', '4', '0', '7', 6], ['1', '0', '3', '5', '2', '8', '4', '6', '7', 7], ['1', '2', '3', '5', '8', '0', '4', '6', '7', 6], ['0', '2', '3', '1', '5', '8', '4', '6', '7', 6], ['1', '2', '3', '5', '0', '8', '4', '6', '7', 6], ['1', '0', '3', '4', '2', '8', '6', '5', '7', 6], ['1', '2', '3', '0', '4', '8', '6', '5', '7', 6], ['1', '0', '2', '4', '5', '3', '6', '7', '8', 6], ['1', '0', '3', '4', '2', '5', '6', '7', '8', 6], ['1', '2', '3', '0', '4', '5', '6', '7', '8', 6], ['1', '2', '0', '4', '8', '3', '6', '5', '7', 6], ['1', '2', '3', '0', '7', '5', '4', '6', '8', 6], ['1', '0', '2', '4', '7', '3', '6', '8', '5', 6], ['0', '1', '3', '4', '2', '7', '6', '8', '5', 6], ['1', '3', '0', '4', '2', '7', '6', '8', '5', 6], ['0', '2', '3', '1', '4', '7', '6', '8', '5', 6], ['1', '2', '3', '0', '8', '7', '4', '6', '5', 6], ['1', '2', '3', '6', '4', '7', '8', '0', '5', 6], ['1', '2', '3', '0', '6', '8', '5', '4', '7', 6], ['1', '2', '3', '5', '6', '8', '4', '0', '7', 6], ['1', '2', '0', '5', '6', '3', '4', '7', '8', 7], ['1', '2', '3', '5', '0', '6', '4', '7', '8', 5]]\n",
            "\n",
            "--------- \n",
            "STEP:  27 \n",
            "---------\n",
            "\tCurrent Node:  ['1', '2', '3', '0', '5', '6', '4', '7', '8', 4]\n",
            "\tOpen List:  [['1', '2', '3', '5', '6', '0', '4', '7', '8', 6], ['1', '2', '3', '5', '6', '8', '4', '0', '7', 6], ['1', '2', '3', '5', '6', '8', '4', '0', '7', 6], ['1', '0', '3', '5', '2', '8', '4', '6', '7', 7], ['1', '2', '3', '5', '8', '0', '4', '6', '7', 6], ['0', '2', '3', '1', '5', '8', '4', '6', '7', 6], ['1', '2', '3', '5', '0', '8', '4', '6', '7', 6], ['1', '0', '3', '4', '2', '8', '6', '5', '7', 6], ['1', '2', '3', '0', '4', '8', '6', '5', '7', 6], ['1', '0', '2', '4', '5', '3', '6', '7', '8', 6], ['1', '0', '3', '4', '2', '5', '6', '7', '8', 6], ['1', '2', '3', '0', '4', '5', '6', '7', '8', 6], ['1', '2', '0', '4', '8', '3', '6', '5', '7', 6], ['1', '2', '3', '0', '7', '5', '4', '6', '8', 6], ['1', '0', '2', '4', '7', '3', '6', '8', '5', 6], ['0', '1', '3', '4', '2', '7', '6', '8', '5', 6], ['1', '3', '0', '4', '2', '7', '6', '8', '5', 6], ['0', '2', '3', '1', '4', '7', '6', '8', '5', 6], ['1', '2', '3', '0', '8', '7', '4', '6', '5', 6], ['1', '2', '3', '6', '4', '7', '8', '0', '5', 6], ['1', '2', '3', '0', '6', '8', '5', '4', '7', 6], ['1', '2', '3', '5', '6', '8', '4', '0', '7', 6], ['1', '2', '0', '5', '6', '3', '4', '7', '8', 7], ['1', '2', '3', '5', '0', '6', '4', '7', '8', 5], ['1', '2', '3', '5', '7', '6', '4', '0', '8', 5], ['1', '0', '3', '5', '2', '6', '4', '7', '8', 6], ['1', '2', '3', '0', '5', '6', '4', '7', '8', 4], ['1', '2', '3', '5', '6', '0', '4', '7', '8', 6]]\n",
            "\n",
            "--------- \n",
            "STEP:  28 \n",
            "---------\n",
            "\tCurrent Node:  ['1', '2', '3', '4', '5', '6', '0', '7', '8', 3]\n",
            "\tOpen List:  [['1', '2', '3', '5', '6', '0', '4', '7', '8', 6], ['1', '2', '3', '5', '6', '8', '4', '0', '7', 6], ['1', '2', '3', '5', '6', '8', '4', '0', '7', 6], ['1', '0', '3', '5', '2', '8', '4', '6', '7', 7], ['1', '2', '3', '5', '8', '0', '4', '6', '7', 6], ['0', '2', '3', '1', '5', '8', '4', '6', '7', 6], ['1', '2', '3', '5', '0', '8', '4', '6', '7', 6], ['1', '0', '3', '4', '2', '8', '6', '5', '7', 6], ['1', '2', '3', '0', '4', '8', '6', '5', '7', 6], ['1', '0', '2', '4', '5', '3', '6', '7', '8', 6], ['1', '0', '3', '4', '2', '5', '6', '7', '8', 6], ['1', '2', '3', '0', '4', '5', '6', '7', '8', 6], ['1', '2', '0', '4', '8', '3', '6', '5', '7', 6], ['1', '2', '3', '0', '7', '5', '4', '6', '8', 6], ['1', '0', '2', '4', '7', '3', '6', '8', '5', 6], ['0', '1', '3', '4', '2', '7', '6', '8', '5', 6], ['1', '3', '0', '4', '2', '7', '6', '8', '5', 6], ['0', '2', '3', '1', '4', '7', '6', '8', '5', 6], ['1', '2', '3', '0', '8', '7', '4', '6', '5', 6], ['1', '2', '3', '6', '4', '7', '8', '0', '5', 6], ['1', '2', '3', '0', '6', '8', '5', '4', '7', 6], ['1', '2', '3', '5', '6', '8', '4', '0', '7', 6], ['1', '2', '0', '5', '6', '3', '4', '7', '8', 7], ['1', '2', '3', '5', '0', '6', '4', '7', '8', 5], ['1', '2', '3', '5', '7', '6', '4', '0', '8', 5], ['1', '0', '3', '5', '2', '6', '4', '7', '8', 6], ['1', '2', '3', '0', '5', '6', '4', '7', '8', 4], ['1', '2', '3', '5', '6', '0', '4', '7', '8', 6], ['1', '2', '3', '4', '5', '6', '0', '7', '8', 3], ['0', '2', '3', '1', '5', '6', '4', '7', '8', 5], ['1', '2', '3', '5', '0', '6', '4', '7', '8', 5]]\n",
            "\n",
            "--------- \n",
            "STEP:  29 \n",
            "---------\n",
            "\tCurrent Node:  ['1', '2', '3', '4', '5', '6', '7', '0', '8', 2]\n",
            "\tOpen List:  [['1', '2', '3', '5', '6', '0', '4', '7', '8', 6], ['1', '2', '3', '5', '6', '8', '4', '0', '7', 6], ['1', '2', '3', '5', '6', '8', '4', '0', '7', 6], ['1', '0', '3', '5', '2', '8', '4', '6', '7', 7], ['1', '2', '3', '5', '8', '0', '4', '6', '7', 6], ['0', '2', '3', '1', '5', '8', '4', '6', '7', 6], ['1', '2', '3', '5', '0', '8', '4', '6', '7', 6], ['1', '0', '3', '4', '2', '8', '6', '5', '7', 6], ['1', '2', '3', '0', '4', '8', '6', '5', '7', 6], ['1', '0', '2', '4', '5', '3', '6', '7', '8', 6], ['1', '0', '3', '4', '2', '5', '6', '7', '8', 6], ['1', '2', '3', '0', '4', '5', '6', '7', '8', 6], ['1', '2', '0', '4', '8', '3', '6', '5', '7', 6], ['1', '2', '3', '0', '7', '5', '4', '6', '8', 6], ['1', '0', '2', '4', '7', '3', '6', '8', '5', 6], ['0', '1', '3', '4', '2', '7', '6', '8', '5', 6], ['1', '3', '0', '4', '2', '7', '6', '8', '5', 6], ['0', '2', '3', '1', '4', '7', '6', '8', '5', 6], ['1', '2', '3', '0', '8', '7', '4', '6', '5', 6], ['1', '2', '3', '6', '4', '7', '8', '0', '5', 6], ['1', '2', '3', '0', '6', '8', '5', '4', '7', 6], ['1', '2', '3', '5', '6', '8', '4', '0', '7', 6], ['1', '2', '0', '5', '6', '3', '4', '7', '8', 7], ['1', '2', '3', '5', '0', '6', '4', '7', '8', 5], ['1', '2', '3', '5', '7', '6', '4', '0', '8', 5], ['1', '0', '3', '5', '2', '6', '4', '7', '8', 6], ['1', '2', '3', '0', '5', '6', '4', '7', '8', 4], ['1', '2', '3', '5', '6', '0', '4', '7', '8', 6], ['1', '2', '3', '4', '5', '6', '0', '7', '8', 3], ['0', '2', '3', '1', '5', '6', '4', '7', '8', 5], ['1', '2', '3', '5', '0', '6', '4', '7', '8', 5], ['1', '2', '3', '0', '5', '6', '4', '7', '8', 4], ['1', '2', '3', '4', '5', '6', '7', '0', '8', 2]]\n",
            "Final Goal:  ['1', '2', '3', '4', '5', '6', '7', '8', '0', 0] \n",
            "\n",
            "------------------------------------------------------------ \n",
            "How the nodes are expanded\n",
            " ------------------------------------------------------------\n",
            "step  1 ['1', '2', '3', '5', '6', '8', '4', '7', '0'] ( 5 )\n",
            "step  2 ['1', '2', '3', '5', '0', '8', '4', '6', '7'] ( 6 )\n",
            "step  3 ['1', '2', '3', '0', '5', '8', '4', '6', '7'] ( 5 )\n",
            "step  4 ['1', '2', '3', '4', '5', '8', '0', '6', '7'] ( 4 )\n",
            "step  5 ['1', '2', '3', '4', '5', '8', '6', '0', '7'] ( 4 )\n",
            "step  6 ['1', '2', '3', '4', '5', '8', '6', '7', '0'] ( 3 )\n",
            "step  7 ['1', '2', '3', '4', '5', '0', '6', '7', '8'] ( 4 )\n",
            "step  8 ['1', '2', '3', '4', '0', '8', '6', '5', '7'] ( 5 )\n",
            "step  9 ['1', '2', '0', '4', '5', '3', '6', '7', '8'] ( 5 )\n",
            "step  10 ['1', '2', '3', '4', '0', '5', '6', '7', '8'] ( 5 )\n",
            "step  11 ['1', '2', '3', '4', '8', '0', '6', '5', '7'] ( 5 )\n",
            "step  12 ['1', '2', '3', '4', '8', '7', '6', '5', '0'] ( 4 )\n",
            "step  13 ['1', '2', '3', '4', '7', '5', '6', '0', '8'] ( 5 )\n",
            "step  14 ['1', '2', '3', '4', '7', '5', '6', '8', '0'] ( 3 )\n",
            "step  15 ['1', '2', '3', '4', '7', '0', '6', '8', '5'] ( 4 )\n",
            "step  16 ['1', '2', '3', '4', '0', '7', '6', '8', '5'] ( 4 )\n",
            "step  17 ['1', '2', '3', '4', '8', '7', '6', '0', '5'] ( 5 )\n",
            "step  18 ['1', '2', '3', '4', '7', '5', '0', '6', '8'] ( 5 )\n",
            "step  19 ['1', '2', '0', '4', '7', '3', '6', '8', '5'] ( 5 )\n",
            "step  20 ['1', '0', '3', '4', '2', '7', '6', '8', '5'] ( 5 )\n",
            "step  21 ['1', '2', '3', '0', '4', '7', '6', '8', '5'] ( 5 )\n",
            "step  22 ['1', '2', '3', '4', '8', '7', '0', '6', '5'] ( 5 )\n",
            "step  23 ['1', '2', '3', '6', '4', '7', '0', '8', '5'] ( 5 )\n",
            "step  24 ['1', '2', '3', '5', '6', '8', '0', '4', '7'] ( 6 )\n",
            "step  25 ['1', '2', '3', '5', '6', '0', '4', '7', '8'] ( 6 )\n",
            "step  26 ['1', '2', '3', '5', '0', '6', '4', '7', '8'] ( 5 )\n",
            "step  27 ['1', '2', '3', '0', '5', '6', '4', '7', '8'] ( 4 )\n",
            "step  28 ['1', '2', '3', '4', '5', '6', '0', '7', '8'] ( 3 )\n",
            "step  29 ['1', '2', '3', '4', '5', '6', '7', '0', '8'] ( 2 )\n",
            "step  30 ['1', '2', '3', '4', '5', '6', '7', '8', '0'] ( 0 )\n",
            "\n",
            " ------------------------------------------------------------\n",
            "Initial State:  ['1', '2', '3', '5', '6', '8', '4', '0', '7', 6]\n",
            "Goal State:  ['1', '2', '3', '4', '5', '6', '7', '8', '0', 0]\n",
            "\n",
            "Goal Path (the best path)\n",
            "------------------------------------------------------------\n",
            "LEVEL  0 :  ['1', '2', '3', '5', '6', '8', '4', '0', '7'] ( 6 )\n",
            "LEVEL  1 :  ['1', '2', '3', '5', '6', '8', '4', '7', '0'] ( 5 )\n",
            "LEVEL  2 :  ['1', '2', '3', '5', '6', '0', '4', '7', '8'] ( 6 )\n",
            "LEVEL  3 :  ['1', '2', '3', '5', '0', '6', '4', '7', '8'] ( 5 )\n",
            "LEVEL  4 :  ['1', '2', '3', '0', '5', '6', '4', '7', '8'] ( 4 )\n",
            "LEVEL  5 :  ['1', '2', '3', '4', '5', '6', '0', '7', '8'] ( 3 )\n",
            "LEVEL  6 :  ['1', '2', '3', '4', '5', '6', '7', '0', '8'] ( 2 )\n",
            "LEVEL  7 :  ['1', '2', '3', '4', '5', '6', '7', '8', '0'] ( 0 )\n"
          ]
        }
      ],
      "source": [
        "from EightPuzzle import Puzzle\n",
        "p8 = Puzzle();\n",
        "p8.bestFirstSolve()\n"
      ]
    },
    {
      "cell_type": "markdown",
      "metadata": {
        "id": "u5wF8urPH--A"
      },
      "source": [
        "# **Exercise**\n",
        "\n",
        "1. Add the **simpleHillClimbing** function to the code in **EightPuzzle.py** to get a path that reaches the goal state from the start state. Then call and run the **simpleHillClimbing** function in **EightPuzzle.py**. Check whether the algorithm could guarantee completeness and optimality.\n",
        "\n",
        "2. Modify the code in **EightPuzzle.py** by adding the an **A*** function to the code in **EightPuzzle.py** to get the optimal solution from start node to the goal.\n",
        "\n",
        "  Note: You should back up the EightPuzzle.py before doing any modification). You shall add another function called **functionHeuristic** (i.e. `f(n)`) so that `f(n) = h(n) + g(n)`, where `g(n) = the cost (so far)` to reach the node from the start node. Similar to the greedy-best first search above, however you\n",
        "shall append the `f(n)` to the node instead of `h(n)` as shown in the heuristic function. Then call and run the **A*** function in  **EightPuzzle.py** and observe the space complexity and\n",
        "time complexity of the algorithm."
      ]
    }
  ],
  "metadata": {
    "kernelspec": {
      "display_name": "Python 3",
      "language": "python",
      "name": "python3"
    },
    "language_info": {
      "codemirror_mode": {
        "name": "ipython",
        "version": 3
      },
      "file_extension": ".py",
      "mimetype": "text/x-python",
      "name": "python",
      "nbconvert_exporter": "python",
      "pygments_lexer": "ipython3",
      "version": "3.8.8"
    },
    "colab": {
      "provenance": []
    }
  },
  "nbformat": 4,
  "nbformat_minor": 0
}